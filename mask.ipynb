{
  "nbformat": 4,
  "nbformat_minor": 0,
  "metadata": {
    "colab": {
      "provenance": [],
      "authorship_tag": "ABX9TyM5l/IRBJXQR/gSZhcEiqZV",
      "include_colab_link": true
    },
    "kernelspec": {
      "name": "python3",
      "display_name": "Python 3"
    },
    "language_info": {
      "name": "python"
    },
    "gpuClass": "standard"
  },
  "cells": [
    {
      "cell_type": "markdown",
      "metadata": {
        "id": "view-in-github",
        "colab_type": "text"
      },
      "source": [
        "<a href=\"https://colab.research.google.com/github/j764012/mask_info/blob/main/mask.ipynb\" target=\"_parent\"><img src=\"https://colab.research.google.com/assets/colab-badge.svg\" alt=\"Open In Colab\"/></a>"
      ]
    },
    {
      "cell_type": "code",
      "source": [
        "import requests\n",
        "from bs4 import BeautifulSoup\n",
        "import pandas as pd\n",
        "import json\n",
        "\n",
        "url = 'https://raw.githubusercontent.com/kiang/pharmacies/master/json/points.json'\n",
        "# 利用 requests 對 API 來源發送一個請求\n",
        "response = requests.get(url)\n",
        "# 將請求回應的內容存成一個字串格式\n",
        "r = response.text\n",
        "# 將長得像 json 格式的字串解析成字典或列表\n",
        "data = json.loads(r)\n",
        "# data"
      ],
      "metadata": {
        "id": "xBs48AxC6CH-"
      },
      "execution_count": null,
      "outputs": []
    },
    {
      "cell_type": "code",
      "source": [
        "med_count = {}\n",
        "\n",
        "# 填入欄位名稱\n",
        "for d in data['features']:\n",
        "  # print(d['properties']['county'])\n",
        "  \n",
        "  conunty = d['properties']['address'][:3]\n",
        "  \n",
        "  if conunty not in med_count:\n",
        "        med_count[conunty] = 0\n",
        "\n",
        "  if conunty in med_count:\n",
        "    med_count[conunty] += 1\n",
        "\n",
        "\n",
        "print(med_count)\n",
        "# {'台北市': 123, '新北市': 456 ...}"
      ],
      "metadata": {
        "colab": {
          "base_uri": "https://localhost:8080/"
        },
        "id": "2jUJf8-Z7eB1",
        "outputId": "17a7fc3e-aef1-4c41-86af-46cf7d4264d3"
      },
      "execution_count": null,
      "outputs": [
        {
          "output_type": "stream",
          "name": "stdout",
          "text": [
            "{'臺北市': 340, '高雄市': 424, '臺中市': 436, '臺南市': 280, '基隆市': 57, '新竹市': 39, '嘉義市': 67, '新北市': 507, '桃園市': 271, '新竹縣': 48, '宜蘭縣': 76, '苗栗縣': 57, '彰化縣': 181, '南投縣': 67, '雲林縣': 131, '嘉義縣': 84, '屏東縣': 140, '澎湖縣': 11, '花蓮縣': 47, '臺東縣': 23, '金門縣': 6, '連江縣': 1}\n"
          ]
        }
      ]
    },
    {
      "cell_type": "code",
      "source": [
        "mask_count = {}\n",
        "\n",
        "# 填入欄位名稱\n",
        "for d in data['features']:\n",
        "  # print(d['properties']['county'])\n",
        "  # print(d['properties']['mask_adult'])\n",
        "  conunty = d['properties']['address'][:3]\n",
        "  mask_adult_count = int(d['properties']['mask_adult'])\n",
        "  \n",
        "  if conunty not in mask_count:\n",
        "    mask_count[conunty] = 0\n",
        "\n",
        "  if conunty in med_count:\n",
        "    mask_count[conunty] += mask_adult_count\n",
        "\n",
        "# 將結果從大到小排列\n",
        "mask_count = dict(sorted(mask_count.items(), key=lambda item: item[1]))\n",
        "\n",
        "print(mask_count)\n",
        "# {'台北市': 12345, '新北市': 45678 ...}"
      ],
      "metadata": {
        "colab": {
          "base_uri": "https://localhost:8080/"
        },
        "id": "dAZe2CqoGK-U",
        "outputId": "b2f0e782-01f6-4689-f030-d99be368d90e"
      },
      "execution_count": null,
      "outputs": [
        {
          "output_type": "stream",
          "name": "stdout",
          "text": [
            "{'連江縣': 7930, '澎湖縣': 12600, '金門縣': 15510, '臺東縣': 28510, '新竹市': 45630, '新竹縣': 53760, '花蓮縣': 57330, '基隆市': 80100, '南投縣': 91240, '宜蘭縣': 106900, '嘉義市': 107840, '嘉義縣': 113180, '苗栗縣': 134180, '屏東縣': 184250, '雲林縣': 199470, '彰化縣': 219400, '臺北市': 323660, '桃園市': 345600, '臺南市': 408400, '高雄市': 428940, '臺中市': 556440, '新北市': 677660}\n"
          ]
        }
      ]
    },
    {
      "cell_type": "code",
      "source": [
        "import sqlite3\n",
        "import datetime\n",
        "import json\n",
        "import requests\n",
        "conn = sqlite3.connect('example.db')\n",
        "c = conn.cursor()\n",
        "\n",
        "# 新增且清空資料表\n",
        "\n",
        "c.execute(''' CREATE TABLE IF NOT EXISTS pharmacies (city text, counts text, createdAt datetime)\n",
        "            ''')\n",
        "c.execute(''' DELETE FROM pharmacies''')\n",
        "conn.commit()\n",
        "\n",
        "url = 'https://raw.githubusercontent.com/kiang/pharmacies/master/json/points.json'\n",
        "\n",
        "response = requests.get(url)\n",
        "\n",
        "r = response.text\n",
        "\n",
        "r = json.loads(r)\n",
        "data = {}\n",
        "for d in r['features']:\n",
        "    city = d['properties']['address'][:3]\n",
        "    counts = int(d['properties']['mask_adult']) + int(d['properties']['mask_child'])\n",
        "    if city not in data:\n",
        "        data[city] = 0\n",
        "    if city in data:\n",
        "        data[city] += counts\n",
        "\n",
        "\n",
        "\n",
        "for d in data.items():\n",
        "    \n",
        "    city = d[0]\n",
        "    counts = d[1]\n",
        "\n",
        "    t = datetime.datetime.now()\n",
        "    \n",
        "    print(f\"INSERT INTO pharmacies VALUES ('{city}', '{counts}', '{t}')\")\n",
        "    c.execute(f\"INSERT INTO pharmacies VALUES ('{city}', '{counts}', '{t}')\")\n",
        "    conn.commit()\n",
        "\n",
        "\n",
        "c.execute(\"SELECT * FROM pharmacies\")\n",
        "print(c.fetchone)\n",
        "\n",
        "conn.commit()\n",
        "conn.close()\n",
        "\n"
      ],
      "metadata": {
        "id": "zniVtbZoJPMl",
        "colab": {
          "base_uri": "https://localhost:8080/"
        },
        "outputId": "c35c041a-0088-4e51-bfe9-eba1e81a1448"
      },
      "execution_count": 8,
      "outputs": [
        {
          "output_type": "stream",
          "name": "stdout",
          "text": [
            "INSERT INTO pharmacies VALUES ('臺北市', '667910', '2023-03-30 06:55:50.404367')\n",
            "INSERT INTO pharmacies VALUES ('高雄市', '853920', '2023-03-30 06:55:50.412031')\n",
            "INSERT INTO pharmacies VALUES ('臺中市', '1046010', '2023-03-30 06:55:50.419249')\n",
            "INSERT INTO pharmacies VALUES ('臺南市', '746810', '2023-03-30 06:55:50.427840')\n",
            "INSERT INTO pharmacies VALUES ('基隆市', '164480', '2023-03-30 06:55:50.434331')\n",
            "INSERT INTO pharmacies VALUES ('新竹市', '89210', '2023-03-30 06:55:50.440807')\n",
            "INSERT INTO pharmacies VALUES ('嘉義市', '205660', '2023-03-30 06:55:50.449414')\n",
            "INSERT INTO pharmacies VALUES ('新北市', '1226320', '2023-03-30 06:55:50.456290')\n",
            "INSERT INTO pharmacies VALUES ('桃園市', '622420', '2023-03-30 06:55:50.463643')\n",
            "INSERT INTO pharmacies VALUES ('新竹縣', '109800', '2023-03-30 06:55:50.471111')\n",
            "INSERT INTO pharmacies VALUES ('宜蘭縣', '200570', '2023-03-30 06:55:50.477903')\n",
            "INSERT INTO pharmacies VALUES ('苗栗縣', '217590', '2023-03-30 06:55:50.485290')\n",
            "INSERT INTO pharmacies VALUES ('彰化縣', '442070', '2023-03-30 06:55:50.492622')\n",
            "INSERT INTO pharmacies VALUES ('南投縣', '182870', '2023-03-30 06:55:50.500214')\n",
            "INSERT INTO pharmacies VALUES ('雲林縣', '368290', '2023-03-30 06:55:50.507504')\n",
            "INSERT INTO pharmacies VALUES ('嘉義縣', '225550', '2023-03-30 06:55:50.515346')\n",
            "INSERT INTO pharmacies VALUES ('屏東縣', '354070', '2023-03-30 06:55:50.523463')\n",
            "INSERT INTO pharmacies VALUES ('澎湖縣', '29110', '2023-03-30 06:55:50.530997')\n",
            "INSERT INTO pharmacies VALUES ('花蓮縣', '115170', '2023-03-30 06:55:50.538455')\n",
            "INSERT INTO pharmacies VALUES ('臺東縣', '54320', '2023-03-30 06:55:50.545914')\n",
            "INSERT INTO pharmacies VALUES ('金門縣', '30490', '2023-03-30 06:55:50.553313')\n",
            "INSERT INTO pharmacies VALUES ('連江縣', '11400', '2023-03-30 06:55:50.560757')\n",
            "<built-in method fetchone of sqlite3.Cursor object at 0x7fe89d90ace0>\n"
          ]
        }
      ]
    },
    {
      "cell_type": "code",
      "source": [
        "import sqlite3\n",
        "import datetime\n",
        "import json\n",
        "import requests\n",
        "conn = sqlite3.connect('example.db')\n",
        "c = conn.cursor()\n",
        "\n",
        "# 新增且清空資料表\n",
        "\n",
        "c.execute(''' CREATE TABLE IF NOT EXISTS pharmacies (city text, counts text, createdAt datetime)\n",
        "            ''')\n",
        "c.execute(''' DELETE FROM pharmacies''')\n",
        "conn.commit()\n",
        "\n",
        "url = 'https://raw.githubusercontent.com/kiang/pharmacies/master/json/points.json'\n",
        "\n",
        "response = requests.get(url)\n",
        "\n",
        "r = response.text\n",
        "\n",
        "r = json.loads(r)\n",
        "data = {}\n",
        "for d in r['features']:\n",
        "    city = d['properties']['address'][:3]\n",
        "    \n",
        "    if city not in data:\n",
        "        data[city] = 0\n",
        "    if city in data:\n",
        "        data[city] += 1\n",
        "\n",
        "\n",
        "for d in data.items() :\n",
        "    \n",
        "    city = d[0]\n",
        "    counts = d[1]\n",
        "\n",
        "\n",
        "\n",
        "\n",
        "    t = datetime.datetime.now() + datetime.timedelta(hours=8)\n",
        "    print(f\"INSERT INTO pharmacies VALUES ('{city}', '{counts}', '{t}')\")\n",
        "    c.execute(f\"INSERT INTO pharmacies VALUES ('{city}', '{counts}', '{t}')\")\n",
        "\n",
        "    conn.commit()\n",
        "\n",
        "\n",
        "c.execute(\"SELECT * FROM pharmacies\")\n",
        "print(c.fetchone)\n",
        "\n",
        "conn.commit()\n",
        "conn.close()\n"
      ],
      "metadata": {
        "colab": {
          "base_uri": "https://localhost:8080/"
        },
        "id": "DeXVkQ8BNj4T",
        "outputId": "653e1422-e8e8-4f2a-9269-6720004b780c"
      },
      "execution_count": 9,
      "outputs": [
        {
          "output_type": "stream",
          "name": "stdout",
          "text": [
            "INSERT INTO pharmacies VALUES ('臺北市', '340', '2023-03-30 14:55:55.774879')\n",
            "INSERT INTO pharmacies VALUES ('高雄市', '424', '2023-03-30 14:55:55.782905')\n",
            "INSERT INTO pharmacies VALUES ('臺中市', '436', '2023-03-30 14:55:55.789407')\n",
            "INSERT INTO pharmacies VALUES ('臺南市', '280', '2023-03-30 14:55:55.795851')\n",
            "INSERT INTO pharmacies VALUES ('基隆市', '57', '2023-03-30 14:55:55.802863')\n",
            "INSERT INTO pharmacies VALUES ('新竹市', '39', '2023-03-30 14:55:55.809546')\n",
            "INSERT INTO pharmacies VALUES ('嘉義市', '67', '2023-03-30 14:55:55.816973')\n",
            "INSERT INTO pharmacies VALUES ('新北市', '507', '2023-03-30 14:55:55.823825')\n",
            "INSERT INTO pharmacies VALUES ('桃園市', '271', '2023-03-30 14:55:55.830935')\n",
            "INSERT INTO pharmacies VALUES ('新竹縣', '48', '2023-03-30 14:55:55.838290')\n",
            "INSERT INTO pharmacies VALUES ('宜蘭縣', '76', '2023-03-30 14:55:55.844901')\n",
            "INSERT INTO pharmacies VALUES ('苗栗縣', '57', '2023-03-30 14:55:55.851976')\n",
            "INSERT INTO pharmacies VALUES ('彰化縣', '181', '2023-03-30 14:55:55.859550')\n",
            "INSERT INTO pharmacies VALUES ('南投縣', '67', '2023-03-30 14:55:55.866658')\n",
            "INSERT INTO pharmacies VALUES ('雲林縣', '131', '2023-03-30 14:55:55.874002')\n",
            "INSERT INTO pharmacies VALUES ('嘉義縣', '84', '2023-03-30 14:55:55.880854')\n",
            "INSERT INTO pharmacies VALUES ('屏東縣', '140', '2023-03-30 14:55:55.887906')\n",
            "INSERT INTO pharmacies VALUES ('澎湖縣', '11', '2023-03-30 14:55:55.895016')\n",
            "INSERT INTO pharmacies VALUES ('花蓮縣', '47', '2023-03-30 14:55:55.902350')\n",
            "INSERT INTO pharmacies VALUES ('臺東縣', '23', '2023-03-30 14:55:55.909813')\n",
            "INSERT INTO pharmacies VALUES ('金門縣', '6', '2023-03-30 14:55:55.917231')\n",
            "INSERT INTO pharmacies VALUES ('連江縣', '1', '2023-03-30 14:55:55.924734')\n",
            "<built-in method fetchone of sqlite3.Cursor object at 0x7fe89d90ad50>\n"
          ]
        }
      ]
    },
    {
      "cell_type": "code",
      "source": [],
      "metadata": {
        "id": "LH8FwYVuTS_A"
      },
      "execution_count": null,
      "outputs": []
    }
  ]
}