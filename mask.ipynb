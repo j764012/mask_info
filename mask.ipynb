{
  "nbformat": 4,
  "nbformat_minor": 0,
  "metadata": {
    "colab": {
      "provenance": [],
      "authorship_tag": "ABX9TyO8DnHfROltgK+fESX6P5jg",
      "include_colab_link": true
    },
    "kernelspec": {
      "name": "python3",
      "display_name": "Python 3"
    },
    "language_info": {
      "name": "python"
    },
    "gpuClass": "standard"
  },
  "cells": [
    {
      "cell_type": "markdown",
      "metadata": {
        "id": "view-in-github",
        "colab_type": "text"
      },
      "source": [
        "<a href=\"https://colab.research.google.com/github/j764012/mask_info/blob/main/mask.ipynb\" target=\"_parent\"><img src=\"https://colab.research.google.com/assets/colab-badge.svg\" alt=\"Open In Colab\"/></a>"
      ]
    },
    {
      "cell_type": "code",
      "source": [
        "import requests\n",
        "from bs4 import BeautifulSoup\n",
        "import pandas as pd\n",
        "import json\n",
        "\n",
        "url = 'https://raw.githubusercontent.com/kiang/pharmacies/master/json/points.json'\n",
        "# 利用 requests 對 API 來源發送一個請求\n",
        "response = requests.get(url)\n",
        "# 將請求回應的內容存成一個字串格式\n",
        "r = response.text\n",
        "# 將長得像 json 格式的字串解析成字典或列表\n",
        "data = json.loads(r)\n",
        "# data"
      ],
      "metadata": {
        "id": "xBs48AxC6CH-"
      },
      "execution_count": null,
      "outputs": []
    },
    {
      "cell_type": "code",
      "source": [
        "med_count = {}\n",
        "\n",
        "# 填入欄位名稱\n",
        "for d in data['features']:\n",
        "  # print(d['properties']['county'])\n",
        "  \n",
        "  conunty = d['properties']['address'][:3]\n",
        "  \n",
        "  if conunty not in med_count:\n",
        "        med_count[conunty] = 0\n",
        "\n",
        "  if conunty in med_count:\n",
        "    med_count[conunty] += 1\n",
        "\n",
        "\n",
        "print(med_count)\n",
        "# {'台北市': 123, '新北市': 456 ...}"
      ],
      "metadata": {
        "colab": {
          "base_uri": "https://localhost:8080/"
        },
        "id": "2jUJf8-Z7eB1",
        "outputId": "ab116303-2814-4029-ea1d-aba7af554447"
      },
      "execution_count": 44,
      "outputs": [
        {
          "output_type": "stream",
          "name": "stdout",
          "text": [
            "{'臺北市': 340, '高雄市': 424, '臺中市': 436, '臺南市': 280, '基隆市': 57, '新竹市': 39, '嘉義市': 67, '新北市': 507, '桃園市': 271, '新竹縣': 48, '宜蘭縣': 76, '苗栗縣': 57, '彰化縣': 181, '南投縣': 67, '雲林縣': 131, '嘉義縣': 84, '屏東縣': 140, '澎湖縣': 11, '花蓮縣': 47, '臺東縣': 23, '金門縣': 6, '連江縣': 1}\n"
          ]
        }
      ]
    },
    {
      "cell_type": "code",
      "source": [
        "mask_count = {}\n",
        "\n",
        "# 填入欄位名稱\n",
        "for d in data['features']:\n",
        "  # print(d['properties']['county'])\n",
        "  # print(d['properties']['mask_adult'])\n",
        "  conunty = d['properties']['address'][:3]\n",
        "  mask_adult_count = int(d['properties']['mask_adult'])\n",
        "  \n",
        "  if conunty not in mask_count:\n",
        "    mask_count[conunty] = 0\n",
        "\n",
        "  if conunty in med_count:\n",
        "    mask_count[conunty] += mask_adult_count\n",
        "\n",
        "# 將結果從大到小排列\n",
        "med_count = dict(sorted(med_count.items(), key=lambda item: item[1]))\n",
        "\n",
        "print(mask_count)\n",
        "# {'台北市': 12345, '新北市': 45678 ...}"
      ],
      "metadata": {
        "colab": {
          "base_uri": "https://localhost:8080/"
        },
        "id": "dAZe2CqoGK-U",
        "outputId": "e15c373c-2eb6-473a-df1e-dd047deaac60"
      },
      "execution_count": 48,
      "outputs": [
        {
          "output_type": "stream",
          "name": "stdout",
          "text": [
            "{'臺北市': 323660, '高雄市': 428940, '臺中市': 556440, '臺南市': 408400, '基隆市': 80100, '新竹市': 45630, '嘉義市': 107840, '新北市': 677660, '桃園市': 345600, '新竹縣': 53760, '宜蘭縣': 106900, '苗栗縣': 134180, '彰化縣': 219400, '南投縣': 91240, '雲林縣': 199470, '嘉義縣': 113180, '屏東縣': 184250, '澎湖縣': 12600, '花蓮縣': 57330, '臺東縣': 28510, '金門縣': 15510, '連江縣': 7930}\n"
          ]
        }
      ]
    },
    {
      "cell_type": "code",
      "source": [],
      "metadata": {
        "id": "zniVtbZoJPMl"
      },
      "execution_count": null,
      "outputs": []
    }
  ]
}